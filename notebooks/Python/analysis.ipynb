{
 "cells": [
  {
   "cell_type": "markdown",
   "id": "a336e01c-f334-4b16-bb53-0cf8f284d3d2",
   "metadata": {},
   "source": [
    "# Initialization"
   ]
  },
  {
   "cell_type": "markdown",
   "id": "c7f6efbc-b241-4d77-a8e4-53c26013291d",
   "metadata": {},
   "source": [
    "## Importing libs and setting plot style"
   ]
  },
  {
   "cell_type": "code",
   "execution_count": 6,
   "id": "cdd162df-f36e-41f0-bda7-904296692cd5",
   "metadata": {},
   "outputs": [],
   "source": [
    "import multiprocessing as mp\n",
    "\n",
    "import matplotlib.pyplot as plt\n",
    "import numpy as np\n",
    "import pandas as pd\n",
    "import seaborn as sns\n",
    "import statsmodels.api as sm\n",
    "from matplotlib import rc"
   ]
  },
  {
   "cell_type": "code",
   "execution_count": 9,
   "id": "227bd5ed-d20a-4bbc-82c8-2ba8a094dd25",
   "metadata": {},
   "outputs": [],
   "source": [
    "# Setting plot style\n",
    "\n",
    "sns.set()\n",
    "sns.set_context(\"paper\", font_scale=1.5, rc={\"lines.linewidth\": 2.0})\n",
    "\n",
    "rc(\"text\", usetex=True)\n",
    "\n",
    "sns.set_style(\"ticks\")\n",
    "sns.set_style(\n",
    "    \"whitegrid\",\n",
    "    {\n",
    "        \"axes.edgecolor\": \"black\",\n",
    "        \"axes.grid\": True,\n",
    "        \"axes.axisbelow\": True,\n",
    "        \"axes.labelcolor\": \".15\",\n",
    "        \"grid.color\": \"0.9\",\n",
    "        \"grid.linestyle\": \"-\",\n",
    "        \"xtick.direction\": \"in\",\n",
    "        \"ytick.direction\": \"in\",\n",
    "        \"xtick.bottom\": True,\n",
    "        \"xtick.top\": True,\n",
    "        \"ytick.left\": True,\n",
    "        \"ytick.right\": True,\n",
    "        \"font.family\": [\"sans-serif\"],\n",
    "        \"font.sans-serif\": [\"Liberation Sans\", \"Bitstream Vera Sans\", \"sans-serif\"],\n",
    "    },\n",
    ")"
   ]
  },
  {
   "cell_type": "code",
   "execution_count": 10,
   "id": "196a9024-6f23-4360-aeec-50198355f3fa",
   "metadata": {},
   "outputs": [
    {
     "name": "stdout",
     "output_type": "stream",
     "text": [
      "optimal number of threads: 4\n"
     ]
    }
   ],
   "source": [
    "# folder with stored data\n",
    "data_folder = \"../data_folder\"\n",
    "\n",
    "# set optimal number of threads\n",
    "optimal_number_of_threads = int(mp.cpu_count())\n",
    "print(f\"optimal number of threads: {optimal_number_of_threads}\")"
   ]
  },
  {
   "cell_type": "code",
   "execution_count": 11,
   "id": "50eade30-8e21-4d21-969e-72819a836647",
   "metadata": {},
   "outputs": [],
   "source": [
    "DATA_FOLDER = \"../../data\""
   ]
  },
  {
   "cell_type": "code",
   "execution_count": 13,
   "id": "3f4245f2-f901-41d4-88ce-d2d121501be4",
   "metadata": {},
   "outputs": [],
   "source": [
    "workers = 32\n",
    "threads = 1\n",
    "immirzi = 1\n",
    "\n",
    "\n",
    "df = pd.read_csv(f\"../../immirzi_{immirzi}_workers_{workers}_threads_{threads}.csv\", low_memory=False)\n",
    "\n",
    "#comp_times = Matrix(DataFrame(CSV.File(\"../../immirzi_$(immirzi)_workers_$(workers)_threads_$(threads).csv\", header=true)))"
   ]
  },
  {
   "cell_type": "code",
   "execution_count": 14,
   "id": "ffe2a043-e6db-4fe9-b0f5-2e0e9ca09f1f",
   "metadata": {},
   "outputs": [
    {
     "data": {
      "text/html": [
       "<div>\n",
       "<style scoped>\n",
       "    .dataframe tbody tr th:only-of-type {\n",
       "        vertical-align: middle;\n",
       "    }\n",
       "\n",
       "    .dataframe tbody tr th {\n",
       "        vertical-align: top;\n",
       "    }\n",
       "\n",
       "    .dataframe thead th {\n",
       "        text-align: right;\n",
       "    }\n",
       "</style>\n",
       "<table border=\"1\" class=\"dataframe\">\n",
       "  <thead>\n",
       "    <tr style=\"text-align: right;\">\n",
       "      <th></th>\n",
       "      <th>j0 = 1.0, jpm = 0.5</th>\n",
       "      <th>j0 = 1.5, jpm = 0.5</th>\n",
       "      <th>j0 = 2.0, jpm = 1.0</th>\n",
       "      <th>j0 = 2.5, jpm = 1.0</th>\n",
       "    </tr>\n",
       "  </thead>\n",
       "  <tbody>\n",
       "    <tr>\n",
       "      <th>0</th>\n",
       "      <td>0.103279</td>\n",
       "      <td>0.116104</td>\n",
       "      <td>0.293382</td>\n",
       "      <td>0.251804</td>\n",
       "    </tr>\n",
       "    <tr>\n",
       "      <th>1</th>\n",
       "      <td>1.116828</td>\n",
       "      <td>0.604215</td>\n",
       "      <td>1.391197</td>\n",
       "      <td>1.079204</td>\n",
       "    </tr>\n",
       "    <tr>\n",
       "      <th>2</th>\n",
       "      <td>3.450937</td>\n",
       "      <td>1.871525</td>\n",
       "      <td>6.062162</td>\n",
       "      <td>3.660756</td>\n",
       "    </tr>\n",
       "    <tr>\n",
       "      <th>3</th>\n",
       "      <td>8.686044</td>\n",
       "      <td>5.401415</td>\n",
       "      <td>20.773817</td>\n",
       "      <td>16.456844</td>\n",
       "    </tr>\n",
       "    <tr>\n",
       "      <th>4</th>\n",
       "      <td>17.018161</td>\n",
       "      <td>11.932129</td>\n",
       "      <td>60.653191</td>\n",
       "      <td>56.655997</td>\n",
       "    </tr>\n",
       "    <tr>\n",
       "      <th>5</th>\n",
       "      <td>30.908644</td>\n",
       "      <td>23.351337</td>\n",
       "      <td>150.279459</td>\n",
       "      <td>159.145519</td>\n",
       "    </tr>\n",
       "    <tr>\n",
       "      <th>6</th>\n",
       "      <td>55.688336</td>\n",
       "      <td>46.054742</td>\n",
       "      <td>329.660106</td>\n",
       "      <td>372.944995</td>\n",
       "    </tr>\n",
       "    <tr>\n",
       "      <th>7</th>\n",
       "      <td>92.545577</td>\n",
       "      <td>86.187496</td>\n",
       "      <td>650.398573</td>\n",
       "      <td>755.427053</td>\n",
       "    </tr>\n",
       "    <tr>\n",
       "      <th>8</th>\n",
       "      <td>151.320603</td>\n",
       "      <td>149.366263</td>\n",
       "      <td>1172.798825</td>\n",
       "      <td>1370.542679</td>\n",
       "    </tr>\n",
       "    <tr>\n",
       "      <th>9</th>\n",
       "      <td>230.908948</td>\n",
       "      <td>231.643042</td>\n",
       "      <td>1942.726481</td>\n",
       "      <td>2354.070625</td>\n",
       "    </tr>\n",
       "    <tr>\n",
       "      <th>10</th>\n",
       "      <td>353.966340</td>\n",
       "      <td>371.642917</td>\n",
       "      <td>3151.209526</td>\n",
       "      <td>3894.876432</td>\n",
       "    </tr>\n",
       "  </tbody>\n",
       "</table>\n",
       "</div>"
      ],
      "text/plain": [
       "    j0 = 1.0, jpm = 0.5  j0 = 1.5, jpm = 0.5  j0 = 2.0, jpm = 1.0  \\\n",
       "0              0.103279             0.116104             0.293382   \n",
       "1              1.116828             0.604215             1.391197   \n",
       "2              3.450937             1.871525             6.062162   \n",
       "3              8.686044             5.401415            20.773817   \n",
       "4             17.018161            11.932129            60.653191   \n",
       "5             30.908644            23.351337           150.279459   \n",
       "6             55.688336            46.054742           329.660106   \n",
       "7             92.545577            86.187496           650.398573   \n",
       "8            151.320603           149.366263          1172.798825   \n",
       "9            230.908948           231.643042          1942.726481   \n",
       "10           353.966340           371.642917          3151.209526   \n",
       "\n",
       "    j0 = 2.5, jpm = 1.0  \n",
       "0              0.251804  \n",
       "1              1.079204  \n",
       "2              3.660756  \n",
       "3             16.456844  \n",
       "4             56.655997  \n",
       "5            159.145519  \n",
       "6            372.944995  \n",
       "7            755.427053  \n",
       "8           1370.542679  \n",
       "9           2354.070625  \n",
       "10          3894.876432  "
      ]
     },
     "execution_count": 14,
     "metadata": {},
     "output_type": "execute_result"
    }
   ],
   "source": [
    "df"
   ]
  },
  {
   "cell_type": "code",
   "execution_count": null,
   "id": "9b4c9b15-58d8-48f0-8313-1a739d6576fd",
   "metadata": {},
   "outputs": [],
   "source": [
    "df.plot(\n",
    "    x=\"spin\",\n",
    "    y=\"reg_angles\",\n",
    "    ax=ax,\n",
    "    kind=\"line\",\n",
    "    color=\"tab:orange\",\n",
    "    linewidth=1.2,\n",
    "    label=\"cosine angle regular tetrahedron\",\n",
    "    legend=False,\n",
    ")\n",
    "# "
   ]
  }
 ],
 "metadata": {
  "kernelspec": {
   "display_name": "Python 3 (ipykernel)",
   "language": "python",
   "name": "python3"
  },
  "language_info": {
   "codemirror_mode": {
    "name": "ipython",
    "version": 3
   },
   "file_extension": ".py",
   "mimetype": "text/x-python",
   "name": "python",
   "nbconvert_exporter": "python",
   "pygments_lexer": "ipython3",
   "version": "3.9.16"
  }
 },
 "nbformat": 4,
 "nbformat_minor": 5
}
