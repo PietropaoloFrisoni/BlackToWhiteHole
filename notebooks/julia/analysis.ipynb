{
 "cells": [
  {
   "attachments": {},
   "cell_type": "markdown",
   "id": "4d508219",
   "metadata": {},
   "source": [
    "## Packages"
   ]
  },
  {
   "cell_type": "code",
   "execution_count": 8,
   "metadata": {},
   "outputs": [],
   "source": [
    "using HalfIntegers\n",
    "using LinearAlgebra\n",
    "using ElasticArrays\n",
    "using JLD2\n",
    "using Distributed\n",
    "using DelimitedFiles\n",
    "using Random\n",
    "using CSV\n",
    "using DataFrames\n",
    "using LsqFit"
   ]
  },
  {
   "attachments": {},
   "cell_type": "markdown",
   "id": "b1a48928",
   "metadata": {},
   "source": [
    "## Plot style"
   ]
  },
  {
   "cell_type": "code",
   "execution_count": 9,
   "id": "1bb8008c",
   "metadata": {},
   "outputs": [],
   "source": [
    "using Plots\n",
    "using Plots.PlotMeasures\n",
    "using LaTeXStrings\n",
    "\n",
    "# set backend and style\n",
    "pgfplotsx()\n",
    "theme(:default)\n",
    "default(markerstrokewidth = 0, \n",
    "        markerstrokealpha = 0, \n",
    "        linewidth = 2, \n",
    "        #grid=:none,   \n",
    "        gridlinewidth= 0.5,\n",
    "        markersize = 5,\n",
    "        markershape = :circle,\n",
    "        tickfontsize = 18, \n",
    "        size = (900, 600), \n",
    "        legendfontsize = 18, \n",
    "        guidefontsize=20,\n",
    "        titlefontsize = 20,\n",
    "        legend=(0.03,0.98), \n",
    "        xticks = 0:10, \n",
    "        foreground_color_axis = \"black\",\n",
    "        foreground_color_border = \"black\",\n",
    "        foreground_color_guide = \"darkorange\",\n",
    "        foreground_color_text = \"black\",\n",
    "        guidefontcolor = \"black\", \n",
    "        plot_titlefontcolor = \"black\",\n",
    "        titlefontcolor = \"black\", \n",
    "        shape=[:circle])\n",
    "     "
   ]
  },
  {
   "cell_type": "code",
   "execution_count": 10,
   "id": "9324c234",
   "metadata": {},
   "outputs": [
    {
     "data": {
      "text/plain": [
       "\"../../data\""
      ]
     },
     "metadata": {},
     "output_type": "display_data"
    }
   ],
   "source": [
    "DATA_FOLDER = \"../../data\""
   ]
  },
  {
   "cell_type": "code",
   "execution_count": 50,
   "id": "f70f231a",
   "metadata": {},
   "outputs": [
    {
     "data": {
      "text/plain": [
       "6×9 Matrix{Float64}:\n",
       " 0.0503866   0.0675176   0.116359  …   0.0756438   0.093051   0.184849\n",
       " 0.348511    0.432975    0.428667      0.417647    0.505383   1.10647\n",
       " 0.777723    1.48844     1.45163       1.2307      1.68838    3.83409\n",
       " 1.87539     3.57816     4.72183       3.38535     5.6633    11.9873\n",
       " 3.78049     5.88513     8.08813       9.09986    18.0512    37.4726\n",
       " 5.31747    10.7181     14.5101    …  24.2983     47.3401    94.9912"
      ]
     },
     "metadata": {},
     "output_type": "display_data"
    }
   ],
   "source": [
    "workers = 6\n",
    "threads = 1\n",
    "immirzi = 1\n",
    "\n",
    "comp_times = Matrix(DataFrame(CSV.File(\"$(DATA_FOLDER)/computational_times/vertex_computations/immirzi_$(immirzi)_workers_$(workers)_threads_$(threads).csv\", header=true)))"
   ]
  },
  {
   "cell_type": "code",
   "execution_count": 52,
   "id": "dacaf4bf",
   "metadata": {},
   "outputs": [
    {
     "data": {
      "text/plain": [
       "\"/home/frisus/Scrivania/BlackToWhiteHole/notebooks/julia/plots/laptop_comp_times_workers_6_threads_1_immirzi_1.pdf\""
      ]
     },
     "metadata": {},
     "output_type": "display_data"
    }
   ],
   "source": [
    "pl1 = plot(0:1:5, \n",
    "    [comp_times[:,9], comp_times[:,4], comp_times[:,7], comp_times[:,8], comp_times[:,5]],\n",
    "    label=[L\"j_0=3.5, \\, j_{\\pm}=1.5\" L\"j_0 = 4, \\, j_{\\pm} = 1.5\" L\"j_0 = 5, \\, j_{\\pm} = 2\" L\"j_0 = 5.5, \\, j_{\\pm} = 2\"],\n",
    "    markershape = :circle,    \n",
    "    xticks=[0,1,2,3,4,5],\n",
    "    yaxis=:log,\n",
    "    legend=(0.10,0.97), \n",
    "    legendfontsize = 18)\n",
    "    xlabel!(L\"\\Delta l\")\n",
    "    ylabel!(L\"\\textrm{seconds}\")\n",
    "    title!(L\"\\textrm{Computation time of EPRL vertices}\")\n",
    "savefig(\"./plots/laptop_comp_times_workers_$(workers)_threads_$(threads)_immirzi_$(immirzi).pdf\")  "
   ]
  }
 ],
 "metadata": {
  "kernelspec": {
   "display_name": "Julia 1.8.4",
   "language": "julia",
   "name": "julia-1.8"
  },
  "language_info": {
   "file_extension": ".jl",
   "mimetype": "application/julia",
   "name": "julia",
   "version": "1.8.4"
  }
 },
 "nbformat": 4,
 "nbformat_minor": 5
}
