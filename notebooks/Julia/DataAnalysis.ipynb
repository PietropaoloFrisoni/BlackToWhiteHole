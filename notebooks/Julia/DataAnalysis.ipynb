{
 "cells": [
  {
   "attachments": {},
   "cell_type": "markdown",
   "id": "4d508219",
   "metadata": {
    "tags": []
   },
   "source": [
    "# Initialization"
   ]
  },
  {
   "attachments": {},
   "cell_type": "markdown",
   "id": "9c8a84a7-5c3c-42e3-99c8-2780b2a2f924",
   "metadata": {
    "tags": []
   },
   "source": [
    "## Formatter"
   ]
  },
  {
   "cell_type": "code",
   "execution_count": null,
   "id": "b13ea1fa-2c03-4d79-a1b3-9ae692e9c441",
   "metadata": {},
   "outputs": [],
   "source": [
    "using JupyterFormatter\n",
    "enable_autoformat()"
   ]
  },
  {
   "attachments": {},
   "cell_type": "markdown",
   "id": "a2231386-7286-425b-b41c-9b061a5b2ef4",
   "metadata": {
    "tags": []
   },
   "source": [
    "## Load Packages"
   ]
  },
  {
   "cell_type": "code",
   "execution_count": null,
   "id": "3fec2020",
   "metadata": {},
   "outputs": [],
   "source": [
    "using HalfIntegers\n",
    "using LinearAlgebra\n",
    "using ElasticArrays\n",
    "using JLD2\n",
    "using Distributed\n",
    "using DelimitedFiles\n",
    "using Random\n",
    "using CSV\n",
    "using DataFrames\n",
    "using LsqFit"
   ]
  },
  {
   "attachments": {},
   "cell_type": "markdown",
   "id": "b1a48928",
   "metadata": {
    "tags": []
   },
   "source": [
    "## Plot style"
   ]
  },
  {
   "cell_type": "code",
   "execution_count": null,
   "id": "1bb8008c",
   "metadata": {},
   "outputs": [],
   "source": [
    "using Plots\n",
    "using Plots.PlotMeasures\n",
    "using LaTeXStrings\n",
    "\n",
    "# set backend and style\n",
    "pgfplotsx()\n",
    "theme(:default)\n",
    "default(\n",
    "    markerstrokewidth=0,\n",
    "    markerstrokealpha=0,\n",
    "    linewidth=2,\n",
    "    #grid=:none,   \n",
    "    gridlinewidth=0.5,\n",
    "    markersize=5,\n",
    "    markershape=:circle,\n",
    "    tickfontsize=18,\n",
    "    size=(900, 600),\n",
    "    legendfontsize=18,\n",
    "    guidefontsize=20,\n",
    "    titlefontsize=20,\n",
    "    legend=(0.03, 0.98),\n",
    "    xticks=0:10,\n",
    "    foreground_color_axis=\"black\",\n",
    "    foreground_color_border=\"black\",\n",
    "    foreground_color_guide=\"darkorange\",\n",
    "    foreground_color_text=\"black\",\n",
    "    guidefontcolor=\"black\",\n",
    "    plot_titlefontcolor=\"black\",\n",
    "    titlefontcolor=\"black\",\n",
    "    shape=[:circle],\n",
    ")"
   ]
  },
  {
   "attachments": {},
   "cell_type": "markdown",
   "id": "4f2ebbe1-6a37-4468-a285-e782e7259f46",
   "metadata": {
    "tags": []
   },
   "source": [
    "## Data"
   ]
  },
  {
   "cell_type": "code",
   "execution_count": null,
   "id": "af2515a1-39f6-43e4-92f7-726ea0351642",
   "metadata": {},
   "outputs": [],
   "source": [
    "DATA_FOLDER = \"../../data\";\n",
    "STORE_FOLDER = \"./Plots\";\n",
    "\n",
    "alpha_collection = [3]\n",
    "alpha_range = length(alpha_collection)\n",
    "immirzi_collection = [1]\n",
    "immirzi_range = length(immirzi_collection)\n",
    "T_sampling_parameter = 10\n",
    "Dl_min = 0\n",
    "Dl_max = 8\n",
    "Dl_range = Dl_max - Dl_min + 1\n",
    "angular_spins = [[1], [1.5], [2], [2.5], [3], [3.5], [4], [4.5], [5], [5.5, 2.5], [6, 3], [6.5, 2.5], [7, 3], [7.5, 3.5], [8, 3], [8.5, 3.5], [9, 4], [9.5, 3.5], [10, 4]]\n",
    "angular_spins_range = length(angular_spins);"
   ]
  },
  {
   "attachments": {},
   "cell_type": "markdown",
   "id": "6ca0f1ac-30b7-4237-b36c-e562e3e236af",
   "metadata": {
    "tags": []
   },
   "source": [
    "## Useful Function "
   ]
  },
  {
   "cell_type": "code",
   "execution_count": null,
   "id": "9b960107-e2a2-482c-aef0-e35746e1c6e7",
   "metadata": {},
   "outputs": [],
   "source": [
    "function Fromj0ToMass(j0_float, immirzi)\n",
    "    round(sqrt(2 * j0_float * immirzi), digits=2)\n",
    "end"
   ]
  },
  {
   "cell_type": "code",
   "execution_count": null,
   "id": "01142e49-eac9-4b77-96ea-7950d823310d",
   "metadata": {},
   "outputs": [],
   "source": [
    "function Fromj0Tojpm(j0_float)\n",
    "    round(Int64, 2 * (j0_float / (sqrt(6)))) / 2\n",
    "end"
   ]
  },
  {
   "attachments": {},
   "cell_type": "markdown",
   "id": "461473e2",
   "metadata": {
    "tags": []
   },
   "source": [
    "# Computational times"
   ]
  },
  {
   "cell_type": "code",
   "execution_count": null,
   "id": "f70f231a",
   "metadata": {},
   "outputs": [],
   "source": [
    "workers = 64\n",
    "threads = 1\n",
    "\n",
    "comp_times = Matrix(\n",
    "    DataFrame(\n",
    "        CSV.File(\n",
    "            \"../../immirzi_$(immirzi)_workers_$(workers)_threads_$(threads).csv\",\n",
    "            header=true,\n",
    "        ),\n",
    "    ),\n",
    ");"
   ]
  },
  {
   "cell_type": "code",
   "execution_count": null,
   "id": "dacaf4bf",
   "metadata": {},
   "outputs": [],
   "source": [
    "pl1 = plot(\n",
    "    1:11,\n",
    "    [\n",
    "        comp_times[:, 1],\n",
    "        comp_times[:, 2],\n",
    "        comp_times[:, 3],\n",
    "        comp_times[:, 4],\n",
    "        comp_times[:, 5],\n",
    "        comp_times[:, 6],\n",
    "        comp_times[:, 7],\n",
    "        comp_times[:, 8],\n",
    "        comp_times[:, 9],\n",
    "    ],\n",
    "    label=[L\"j_0=1,\\,j_{\\pm}=0.5\" L\"j_0=1.5,\\,j_{\\pm}=0.5\" L\"j_0=2,\\,j_{\\pm}=1\" L\"j_0=2.5,\\,j_{\\pm}=1\" L\"j_0=3,\\,j_{\\pm}=1\" L\"j_0=3.5,\\,j_{\\pm}=1.5\" L\"j_0=4,\\,j_{\\pm}=1.5\" L\"j_0=4.5,\\,j_{\\pm}=2\" L\"j_0=5,\\,j_{\\pm}=2\"],\n",
    "    markershape=:circle,\n",
    "    yaxis=:log,\n",
    "    xaxis=:log,\n",
    "    legend=(0.10, 0.97),\n",
    "    legendfontsize=18,\n",
    ")\n",
    "xticks!(\n",
    "    [0, 1, 2, 3, 4, 5, 6, 7, 8, 9, 10, 11],\n",
    "    string.([0, 1, 2, 3, 4, 5, 6, 7, 8, 9, 10, 11]),\n",
    ")\n",
    "xlabel!(L\"\\Delta l\")\n",
    "ylabel!(L\"\\textrm{seconds}\")\n",
    "title!(L\"\\textrm{Computation time of EPRL vertices}\")\n",
    "savefig(\n",
    "    \"./plots/narval_computation_workers_$(workers)_threads_$(threads)_immirzi_$(immirzi).pdf\",\n",
    ")"
   ]
  },
  {
   "attachments": {},
   "cell_type": "markdown",
   "id": "451eb511",
   "metadata": {
    "tags": []
   },
   "source": [
    "# Amplitude"
   ]
  },
  {
   "cell_type": "code",
   "execution_count": null,
   "id": "cf8df0d8",
   "metadata": {},
   "outputs": [],
   "source": [
    "function AmplitudeAbsSquaredLoad(\n",
    "    DATA_FOLDER,\n",
    "    j0,\n",
    "    jpm,\n",
    "    alpha,\n",
    "    immirzi,\n",
    "    T,\n",
    "    Dl_min=0,\n",
    "    Dl_max=10,\n",
    "    K0=0.5,\n",
    "    Kpm=0.5)\n",
    "\n",
    "    if j0 > 5\n",
    "        K0 = 0.0\n",
    "        Kpm = 0.0\n",
    "    end\n",
    "\n",
    "    Matrix(\n",
    "        DataFrame(\n",
    "            CSV.File(\n",
    "                \"$(DATA_FOLDER)/amplitude_data/j0=$(j0)_jpm=$(jpm)/K0_$(K0)_Kpm_$(Kpm)/immirzi_$(immirzi)/alpha_$(alpha)/Dl_range_$(Dl_range)/amplitude_abs_sq_T_$(T).csv\",\n",
    "                header=true,\n",
    "            ),\n",
    "        ),\n",
    "    )\n",
    "\n",
    "end\n",
    "\n",
    "function AmplitudeRescaling(ampls)\n",
    "    rescaling_factor = 1000000000000000000000000000000000000000000000000  # 10^50\n",
    "    ampls[:] .= ampls[:] .* rescaling_factor\n",
    "end\n",
    "\n",
    "function TRange(m, immirzi, T_sampling_parameter)\n",
    "    LinRange(0, 4 * pi * m / immirzi, T_sampling_parameter)\n",
    "end"
   ]
  },
  {
   "cell_type": "code",
   "execution_count": null,
   "id": "ffd2b588-4f70-40cb-98aa-7442c5888b3e",
   "metadata": {},
   "outputs": [],
   "source": [
    "ampls_path = \"$(STORE_FOLDER)/ampls/T_sampling_parameter_$(T_sampling_parameter)\"\n",
    "mkpath(\"$(ampls_path)\")\n",
    "\n",
    "ampls_collection = Array{Float64,5}(undef, T_sampling_parameter, Dl_range, angular_spins_range, alpha_range, immirzi_range)\n",
    "Lifetime_x_coordinates = Float64[]\n",
    "\n",
    "plot_ampls = false\n",
    "\n",
    "for angular_spin_index in eachindex(angular_spins)\n",
    "\n",
    "    user_conf = angular_spins[angular_spin_index]\n",
    "    j0_float = user_conf[1]\n",
    "    j0 = half(2 * j0_float)\n",
    "\n",
    "    if length(user_conf) == 1\n",
    "        jpm_float = round(Int64, 2 * (j0_float / (sqrt(6)))) / 2\n",
    "        jpm = half(2 * jpm_float)\n",
    "    else\n",
    "        jpm_float = user_conf[2]\n",
    "        jpm = half(2 * jpm_float)\n",
    "    end\n",
    "\n",
    "    for immirzi_index in eachindex(immirzi_collection)\n",
    "\n",
    "        immirzi = immirzi_collection[immirzi_index]\n",
    "        m = Fromj0ToMass(j0, immirzi)\n",
    "        T_range = TRange(m, immirzi, T_sampling_parameter)\n",
    "        push!(Lifetime_x_coordinates, m)\n",
    "\n",
    "        DeltaT = Int(T_sampling_parameter / 5)\n",
    "        X_ticks = [0:DeltaT:T_sampling_parameter;]\n",
    "        X_labels = String[]\n",
    "\n",
    "        for x in X_ticks[1:end-1]\n",
    "            l = T_range[x+1]\n",
    "            l = round(l, digits=2)\n",
    "            push!(X_labels, \"$(l)\")\n",
    "        end\n",
    "\n",
    "        final_x_tick = T_range[end]\n",
    "        push!(X_labels, L\"\\frac{4 \\pi m}{\\gamma}\")\n",
    "\n",
    "        ampls_path_immirzi = \"$(ampls_path)/immirzi_$(immirzi)\"\n",
    "\n",
    "        for alpha_index in eachindex(alpha_collection)\n",
    "\n",
    "            alpha = alpha_collection[alpha_index]\n",
    "            ampls = AmplitudeAbsSquaredLoad(DATA_FOLDER, j0_float, jpm_float, alpha, immirzi, T_sampling_parameter, Dl_min, Dl_max)\n",
    "            AmplitudeRescaling(ampls)\n",
    "            ampls_collection[:, :, angular_spin_index, alpha_index, immirzi_index] .= ampls[:, :]\n",
    "\n",
    "            ampls_path_immirzi_alpha = \"$(ampls_path_immirzi)/alpha_$(alpha)\"\n",
    "            mkpath(ampls_path_immirzi_alpha)\n",
    "\n",
    "            if plot_ampls\n",
    "                pl1 = plot(\n",
    "                    1:T_sampling_parameter,\n",
    "                    [ampls[:, 1] ampls[:, 2] ampls[:, 3] ampls[:, 4] ampls[:, 5] ampls[:, 6] ampls[:, 7] ampls[:, 8] ampls[:, 9] ampls[:, 10] ampls[:, 11]],\n",
    "                    label=[\"Δl=0\" \"Δl=1\" \"Δl=2\" \"Δl=3\" \"Δl=4\" \"Δl=5\" \"Δl=6\" \"Δl=7\" \"Δl=8\" \"Δl=9\" \"Δl=10\"],\n",
    "                    legend=(0.30, 0.90),\n",
    "                    #label = \"\",\n",
    "                    markershape=:circle,\n",
    "                    grid=:true,\n",
    "                    xlims=(0, T_sampling_parameter + 1),\n",
    "                    xticks=(X_ticks, X_labels),\n",
    "                    palette=palette([:skyblue, :purple], Dl_range),\n",
    "                    legendfontsize=20)\n",
    "                xlabel!(L\"T\")\n",
    "                title!(L\"|W_{\\alpha=%$alpha}  \\, \\left(m=%$m, \\, T \\right) |^2 \\times 10^{50}\")\n",
    "                savefig(\"$(ampls_path_immirzi_alpha)/j0_$(j0_float).pdf\")\n",
    "            end\n",
    "\n",
    "        end\n",
    "\n",
    "    end\n",
    "\n",
    "end"
   ]
  },
  {
   "attachments": {},
   "cell_type": "markdown",
   "id": "596680e9-acd8-4e0a-b7ee-992a9da384ff",
   "metadata": {
    "tags": []
   },
   "source": [
    "# Crossing Time"
   ]
  },
  {
   "cell_type": "code",
   "execution_count": null,
   "id": "7e826325-29a0-4f5d-96a9-af0254028d1c",
   "metadata": {},
   "outputs": [],
   "source": [
    "function CrossingTimeLoad(DATA_FOLDER, j0, jpm, alpha, immirzi, T, Dl_range, K0=0.5, Kpm=0.5)\n",
    "\n",
    "    Matrix(\n",
    "        DataFrame(\n",
    "            CSV.File(\n",
    "                \"$(DATA_FOLDER)/amplitude_data/j0=$(j0)_jpm=$(jpm)/K0_$(K0)_Kpm_$(Kpm)/immirzi_$(immirzi)/alpha_$(alpha)/Dl_range_$(Dl_range)/crossing_time_$(T).csv\",\n",
    "                header=true,\n",
    "            ),\n",
    "        ),\n",
    "    )\n",
    "\n",
    "end"
   ]
  },
  {
   "cell_type": "code",
   "execution_count": null,
   "id": "6d0d54e2-72b6-45c0-b3b0-d5ebfc4af547",
   "metadata": {},
   "outputs": [],
   "source": [
    "crossing_times_collection = Array{Float64,3}(undef, angular_spins_range, alpha_range, immirzi_range)\n",
    "mass_values_collection = Array{Float64,2}(undef, angular_spins_range, immirzi_range)\n",
    "mass_values_string_collection = Array{String,2}(undef, angular_spins_range, immirzi_range)\n",
    "semiclassical_estimate_collection = Array{Float64,2}(undef, angular_spins_range, immirzi_range)\n",
    "\n",
    "for angular_spin_index in eachindex(angular_spins)\n",
    "\n",
    "    user_conf = angular_spins[angular_spin_index]\n",
    "    j0_float = user_conf[1]\n",
    "    j0 = half(2 * j0_float)\n",
    "\n",
    "    if length(user_conf) == 1\n",
    "        jpm_float = round(Int64, 2 * (j0_float / (sqrt(6)))) / 2\n",
    "        jpm = half(2 * jpm_float)\n",
    "    else\n",
    "        jpm_float = user_conf[2]\n",
    "        jpm = half(2 * jpm_float)\n",
    "    end\n",
    "\n",
    "    for immirzi_index in eachindex(immirzi_collection)\n",
    "\n",
    "        immirzi = immirzi_collection[immirzi_index]\n",
    "        m = Fromj0ToMass(j0, immirzi)\n",
    "        mass_values_collection[angular_spin_index, immirzi_index] = m\n",
    "        mass_values_string_collection[angular_spin_index, immirzi_index] = \"$(m)\"\n",
    "        semiclassical_estimate_collection[angular_spin_index, immirzi_index] = 2 * m * pi / immirzi\n",
    "\n",
    "        for alpha_index in eachindex(alpha_collection)\n",
    "\n",
    "            alpha = alpha_collection[alpha_index]\n",
    "            crossing_time = CrossingTimeLoad(DATA_FOLDER, j0_float, jpm_float, alpha, immirzi, T_sampling_parameter, Dl_range)\n",
    "            crossing_times_collection[angular_spin_index, alpha_index, immirzi_index] = crossing_time[end] # only last value of truncation parameter\n",
    "\n",
    "        end\n",
    "\n",
    "    end\n",
    "\n",
    "end"
   ]
  },
  {
   "cell_type": "code",
   "execution_count": null,
   "id": "0040d627-e2b3-42ed-b44e-967b46ce5062",
   "metadata": {},
   "outputs": [],
   "source": [
    "crossing_times_path = \"$(STORE_FOLDER)/crossing_times/T_sampling_parameter_$(T_sampling_parameter)\"\n",
    "\n",
    "for immirzi_index in eachindex(immirzi_collection)\n",
    "\n",
    "    immirzi = immirzi_collection[immirzi_index]\n",
    "    crossing_times_path_immirzi = \"$(crossing_times_path)/immirzi_$(immirzi)\"\n",
    "    mkpath(\"$(crossing_times_path_immirzi)\")\n",
    "\n",
    "    pl1 = scatter(\n",
    "        mass_values_collection[2:end, immirzi_index],\n",
    "        [[crossing_times_collection[2:end, 1, immirzi_index] crossing_times_collection[2:end, 2, immirzi_index] crossing_times_collection[2:end, 3, immirzi_index] crossing_times_collection[2:end, 4, immirzi_index]]],\n",
    "        label=[L\"\\alpha=3\" L\"\\alpha=4\" L\"\\alpha=5\" L\"\\alpha=6\"],\n",
    "        legend=(0.10, 0.97),\n",
    "        markersize=6,\n",
    "        linewidth=-1,\n",
    "        markershape=:circle,\n",
    "        #linestyle = :none,\n",
    "        legendfontsize=18,\n",
    "        xticks=mass_values_collection[2:end, immirzi_index])\n",
    "    xlabel!(L\"m\")\n",
    "    title!(L\"\\tau \\left(m \\right)\")\n",
    "\n",
    "    plot!(\n",
    "        mass_values_collection[2:end, immirzi_index],\n",
    "        [[semiclassical_estimate_collection[2:end, immirzi_index]]],\n",
    "        label=\"semicl.\",\n",
    "        linestyle=:dash,\n",
    "        markershape=:none)\n",
    "\n",
    "    savefig(\"$(crossing_times_path_immirzi)/Tc_immirzi_$(immirzi).pdf\")\n",
    "\n",
    "end"
   ]
  },
  {
   "attachments": {},
   "cell_type": "markdown",
   "id": "37776aa3",
   "metadata": {},
   "source": [
    "# Lifetime"
   ]
  },
  {
   "cell_type": "code",
   "execution_count": null,
   "id": "971de644",
   "metadata": {},
   "outputs": [],
   "source": [
    "# integrates mu*|W|^2 over m from m_min to m_max using the trapezoidal rule\n",
    "# m = sqrt(2*immirzi*j0) for large T, therefore dm = dj0/(2*sqrt(2*immirzi*j0))\n",
    "function AmplitudeIntegrationM(ampls_collection, angular_spins, immirzi_collection, Lifetime_x_coordinates)\n",
    "\n",
    "    #ampls_collection = Array{Float64,5}(undef, T_sampling_parameter, Dl_range, angular_spins_range, alpha_range, immirzi_range)\n",
    "\n",
    "    angular_spins_range = length(angular_spins)\n",
    "\n",
    "    # TODO: add check\n",
    "    Delta_j0 = half(1)\n",
    "\n",
    "    for immirzi_index in eachindex(immirzi_collection)\n",
    "\n",
    "        immirzi = immirzi_collection[immirzi_index]\n",
    "\n",
    "        total_integrated_quantity = 0.0\n",
    "\n",
    "        for angular_spin_index in eachindex(angular_spins)\n",
    "\n",
    "            user_conf = angular_spins[angular_spin_index]\n",
    "            j0_float = user_conf[1]\n",
    "            j0 = half(2 * j0_float)\n",
    "\n",
    "            if length(user_conf) == 1\n",
    "                jpm_float = round(Int64, 2 * (j0_float / (sqrt(6)))) / 2\n",
    "                jpm = half(2 * jpm_float)\n",
    "            else\n",
    "                jpm_float = user_conf[2]\n",
    "                jpm = half(2 * jpm_float)\n",
    "            end\n",
    "\n",
    "            m = Fromj0ToMass(j0, immirzi)\n",
    "\n",
    "            integration_factor = 1 / (2 * sqrt(2 * immirzi * j0_float))\n",
    "\n",
    "            integrated_quantity = ampls_collection[end, end, angular_spin_index, 1, immirzi_index] * integration_factor\n",
    "\n",
    "            angular_spin_index == 1 && (integrated_quantity /= 2)\n",
    "\n",
    "            angular_spin_index == angular_spins_range && (integrated_quantity /= 2)\n",
    "\n",
    "            total_integrated_quantity += integrated_quantity\n",
    "\n",
    "        end\n",
    "\n",
    "        ampls_collection[end, :, :, 1, immirzi_index] = ampls_collection[end, :, :, 1, immirzi_index] ./ total_integrated_quantity\n",
    "\n",
    "        pl1 = plot(\n",
    "            Lifetime_x_coordinates,\n",
    "            [ampls_collection[end, 1, :, 1, immirzi_index] ampls_collection[end, 2, :, 1, immirzi_index] ampls_collection[end, 3, :, 1, immirzi_index] ampls_collection[end, 4, :, 1, immirzi_index] ampls_collection[end, 5, :, 1, immirzi_index] ampls_collection[end, 6, :, 1, immirzi_index] ampls_collection[end, 7, :, 1, immirzi_index] ampls_collection[end, 8, :, 1, immirzi_index]],\n",
    "            label=[\"Δl=0\" \"Δl=1\" \"Δl=2\" \"Δl=3\" \"Δl=4\" \"Δl=5\" \"Δl=6\" \"Δl=7\" \"Δl=8\"],\n",
    "            legend=(0.10, 0.60),\n",
    "            markershape=:circle,\n",
    "            grid=:true,\n",
    "            yscale=:ln,\n",
    "            #xlims=(0, T_sampling_parameter + 1),\n",
    "            #xticks=(X_ticks, X_labels),\n",
    "            #yticks=(Y_ticks, Y_labels),\n",
    "            palette=palette([:skyblue, :purple], 9),\n",
    "            legendfontsize=20)\n",
    "        xlabel!(L\"m\")\n",
    "        title!(L\"P \\left( m | T \\right)\")\n",
    "        savefig(\"./Plots/test.pdf\")\n",
    "\n",
    "    end\n",
    "\n",
    "end"
   ]
  },
  {
   "cell_type": "code",
   "execution_count": null,
   "id": "388fcd7f",
   "metadata": {},
   "outputs": [],
   "source": [
    "AmplitudeIntegrationM(ampls_collection, angular_spins, immirzi_collection, Lifetime_x_coordinates)"
   ]
  }
 ],
 "metadata": {
  "kernelspec": {
   "display_name": "Julia 1.8.4",
   "language": "julia",
   "name": "julia-1.8"
  },
  "language_info": {
   "file_extension": ".jl",
   "mimetype": "application/julia",
   "name": "julia",
   "version": "1.8.4"
  }
 },
 "nbformat": 4,
 "nbformat_minor": 5
}
