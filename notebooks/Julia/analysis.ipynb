{
 "cells": [
  {
   "cell_type": "markdown",
   "id": "4d508219",
   "metadata": {
    "tags": []
   },
   "source": [
    "# Initialization"
   ]
  },
  {
   "cell_type": "markdown",
   "id": "9c8a84a7-5c3c-42e3-99c8-2780b2a2f924",
   "metadata": {
    "jp-MarkdownHeadingCollapsed": true,
    "tags": []
   },
   "source": [
    "## Formatter"
   ]
  },
  {
   "cell_type": "code",
   "execution_count": 30,
   "id": "b13ea1fa-2c03-4d79-a1b3-9ae692e9c441",
   "metadata": {},
   "outputs": [
    {
     "data": {
      "text/plain": [
       "1-element Vector{Function}:\n",
       " format_current_cell (generic function with 1 method)"
      ]
     },
     "execution_count": 30,
     "metadata": {},
     "output_type": "execute_result"
    }
   ],
   "source": [
    "using JupyterFormatter\n",
    "enable_autoformat()"
   ]
  },
  {
   "cell_type": "markdown",
   "id": "a2231386-7286-425b-b41c-9b061a5b2ef4",
   "metadata": {
    "jp-MarkdownHeadingCollapsed": true,
    "tags": []
   },
   "source": [
    "## Load Packages"
   ]
  },
  {
   "cell_type": "code",
   "execution_count": 1,
   "id": "3fec2020",
   "metadata": {},
   "outputs": [],
   "source": [
    "using HalfIntegers\n",
    "using LinearAlgebra\n",
    "using ElasticArrays\n",
    "using JLD2\n",
    "using Distributed\n",
    "using DelimitedFiles\n",
    "using Random\n",
    "using CSV\n",
    "using DataFrames\n",
    "using LsqFit"
   ]
  },
  {
   "cell_type": "markdown",
   "id": "b1a48928",
   "metadata": {
    "jp-MarkdownHeadingCollapsed": true,
    "tags": []
   },
   "source": [
    "## Plot style"
   ]
  },
  {
   "cell_type": "code",
   "execution_count": 31,
   "id": "1bb8008c",
   "metadata": {},
   "outputs": [],
   "source": [
    "using Plots\n",
    "using Plots.PlotMeasures\n",
    "using LaTeXStrings\n",
    "\n",
    "# set backend and style\n",
    "pgfplotsx()\n",
    "theme(:default)\n",
    "default(\n",
    "    markerstrokewidth = 0,\n",
    "    markerstrokealpha = 0,\n",
    "    linewidth = 2,\n",
    "    #grid=:none,   \n",
    "    gridlinewidth = 0.5,\n",
    "    markersize = 5,\n",
    "    markershape = :circle,\n",
    "    tickfontsize = 18,\n",
    "    size = (900, 600),\n",
    "    legendfontsize = 18,\n",
    "    guidefontsize = 20,\n",
    "    titlefontsize = 20,\n",
    "    legend = (0.03, 0.98),\n",
    "    xticks = 0:10,\n",
    "    foreground_color_axis = \"black\",\n",
    "    foreground_color_border = \"black\",\n",
    "    foreground_color_guide = \"darkorange\",\n",
    "    foreground_color_text = \"black\",\n",
    "    guidefontcolor = \"black\",\n",
    "    plot_titlefontcolor = \"black\",\n",
    "    titlefontcolor = \"black\",\n",
    "    shape = [:circle],\n",
    ")\n"
   ]
  },
  {
   "cell_type": "markdown",
   "id": "4f2ebbe1-6a37-4468-a285-e782e7259f46",
   "metadata": {
    "tags": []
   },
   "source": [
    "## Data"
   ]
  },
  {
   "cell_type": "code",
   "execution_count": 32,
   "id": "af2515a1-39f6-43e4-92f7-726ea0351642",
   "metadata": {},
   "outputs": [],
   "source": [
    "include(\"../../parameters.jl\");\n",
    "DATA_FOLDER = \"../../data\";\n",
    "STORE_FOLDER = \"./plots\";"
   ]
  },
  {
   "cell_type": "markdown",
   "id": "6ca0f1ac-30b7-4237-b36c-e562e3e236af",
   "metadata": {
    "jp-MarkdownHeadingCollapsed": true,
    "tags": []
   },
   "source": [
    "## Useful Function "
   ]
  },
  {
   "cell_type": "code",
   "execution_count": 33,
   "id": "9b960107-e2a2-482c-aef0-e35746e1c6e7",
   "metadata": {},
   "outputs": [
    {
     "data": {
      "text/plain": [
       "Fromj0ToMass (generic function with 1 method)"
      ]
     },
     "execution_count": 33,
     "metadata": {},
     "output_type": "execute_result"
    }
   ],
   "source": [
    "function Fromj0ToMass(j0_float)\n",
    "    return round(sqrt(j0_float * immirzi), digits = 2)\n",
    "end"
   ]
  },
  {
   "cell_type": "code",
   "execution_count": 34,
   "id": "01142e49-eac9-4b77-96ea-7950d823310d",
   "metadata": {},
   "outputs": [
    {
     "data": {
      "text/plain": [
       "Fromj0Tojpm (generic function with 1 method)"
      ]
     },
     "execution_count": 34,
     "metadata": {},
     "output_type": "execute_result"
    }
   ],
   "source": [
    "function Fromj0Tojpm(j0_float)\n",
    "    return round(Int64, 2 * (j0_float / (sqrt(6)))) / 2\n",
    "end"
   ]
  },
  {
   "cell_type": "markdown",
   "id": "461473e2",
   "metadata": {
    "jp-MarkdownHeadingCollapsed": true,
    "tags": []
   },
   "source": [
    "# Computational times"
   ]
  },
  {
   "cell_type": "code",
   "execution_count": 79,
   "id": "f70f231a",
   "metadata": {},
   "outputs": [],
   "source": [
    "workers = 64\n",
    "threads = 1\n",
    "immirzi = 1\n",
    "\n",
    "comp_times = Matrix(\n",
    "    DataFrame(\n",
    "        CSV.File(\n",
    "            \"../../immirzi_$(immirzi)_workers_$(workers)_threads_$(threads).csv\",\n",
    "            header = true,\n",
    "        ),\n",
    "    ),\n",
    ");"
   ]
  },
  {
   "cell_type": "code",
   "execution_count": 36,
   "id": "dacaf4bf",
   "metadata": {},
   "outputs": [
    {
     "data": {
      "text/plain": [
       "\"/home/frisus/Scrivania/BlackToWhiteHole/notebooks/Julia/plots/narval_computation_workers_64_threads_1_immirzi_1.pdf\""
      ]
     },
     "execution_count": 36,
     "metadata": {},
     "output_type": "execute_result"
    }
   ],
   "source": [
    "pl1 = plot(\n",
    "    1:11,\n",
    "    [\n",
    "        comp_times[:, 1],\n",
    "        comp_times[:, 2],\n",
    "        comp_times[:, 3],\n",
    "        comp_times[:, 4],\n",
    "        comp_times[:, 5],\n",
    "        comp_times[:, 6],\n",
    "        comp_times[:, 7],\n",
    "        comp_times[:, 8],\n",
    "        comp_times[:, 9],\n",
    "    ],\n",
    "    label = [L\"j_0=1,\\,j_{\\pm}=0.5\" L\"j_0=1.5,\\,j_{\\pm}=0.5\" L\"j_0=2,\\,j_{\\pm}=1\" L\"j_0=2.5,\\,j_{\\pm}=1\" L\"j_0=3,\\,j_{\\pm}=1\" L\"j_0=3.5,\\,j_{\\pm}=1.5\" L\"j_0=4,\\,j_{\\pm}=1.5\" L\"j_0=4.5,\\,j_{\\pm}=2\" L\"j_0=5,\\,j_{\\pm}=2\"],\n",
    "    markershape = :circle,\n",
    "    yaxis = :log,\n",
    "    xaxis = :log,\n",
    "    legend = (0.10, 0.97),\n",
    "    legendfontsize = 18,\n",
    ")\n",
    "xticks!(\n",
    "    [0, 1, 2, 3, 4, 5, 6, 7, 8, 9, 10, 11],\n",
    "    string.([0, 1, 2, 3, 4, 5, 6, 7, 8, 9, 10, 11]),\n",
    ")\n",
    "xlabel!(L\"\\Delta l\")\n",
    "ylabel!(L\"\\textrm{seconds}\")\n",
    "title!(L\"\\textrm{Computation time of EPRL vertices}\")\n",
    "savefig(\n",
    "    \"./plots/narval_computation_workers_$(workers)_threads_$(threads)_immirzi_$(immirzi).pdf\",\n",
    ")"
   ]
  },
  {
   "cell_type": "markdown",
   "id": "451eb511",
   "metadata": {
    "jp-MarkdownHeadingCollapsed": true,
    "tags": []
   },
   "source": [
    "# Amplitude"
   ]
  },
  {
   "cell_type": "code",
   "execution_count": 37,
   "id": "cf8df0d8",
   "metadata": {},
   "outputs": [
    {
     "data": {
      "text/plain": [
       "TRange (generic function with 1 method)"
      ]
     },
     "execution_count": 37,
     "metadata": {},
     "output_type": "execute_result"
    }
   ],
   "source": [
    "function AmplitudeAbsSquaredLoad(\n",
    "    DATA_FOLDER,\n",
    "    j0,\n",
    "    jpm,\n",
    "    alpha,\n",
    "    immirzi,\n",
    "    T,\n",
    "    K0 = 0.5,\n",
    "    Kpm = 0.5,\n",
    ")\n",
    "    return Matrix(\n",
    "        DataFrame(\n",
    "            CSV.File(\n",
    "                \"$(DATA_FOLDER)/amplitude_data/j0=$(j0)_jpm=$(jpm)/K0_$(K0)_Kpm_$(Kpm)/immirzi_$(immirzi)/alpha_$(alpha)/amplitude_abs_sq_T_$(T).csv\",\n",
    "                header = true,\n",
    "            ),\n",
    "        ),\n",
    "    )\n",
    "end\n",
    "\n",
    "function AmplitudeRescaling(ampls, rescaling_factor = 100000000000000000000)\n",
    "    ampls[:] .= ampls[:] .* rescaling_factor\n",
    "end\n",
    "\n",
    "function TRange(m, immirzi, T_sampling_parameter)\n",
    "    return LinRange(0, 4 * pi * m / immirzi, T_sampling_parameter)\n",
    "end"
   ]
  },
  {
   "cell_type": "code",
   "execution_count": 69,
   "id": "ffd2b588-4f70-40cb-98aa-7442c5888b3e",
   "metadata": {},
   "outputs": [],
   "source": [
    "mkpath(\"$(STORE_FOLDER)/ampls\")\n",
    "\n",
    "for j0_index in angular_spins\n",
    "\n",
    "    j0 = j0_index[1]\n",
    "    jpm = Fromj0Tojpm(j0)\n",
    "    m = Fromj0ToMass(j0)\n",
    "    T_range = TRange(m, immirzi, T_sampling_parameter)\n",
    "\n",
    "    ampls =\n",
    "        AmplitudeAbsSquaredLoad(DATA_FOLDER, j0, jpm, alpha, immirzi, T_sampling_parameter)\n",
    "\n",
    "    AmplitudeRescaling(ampls)\n",
    "\n",
    "    final_x_tick = T_range[end]\n",
    "\n",
    "    pl1 = plot(\n",
    "        1:T_sampling_parameter,\n",
    "        [\n",
    "            ampls[:, 1] ampls[:, 2] ampls[:, 3] ampls[:, 4] ampls[:, 5] ampls[:, 6] ampls[:, 7] ampls[:, 8] ampls[:, 9] ampls[:, 10] ampls[:, 11];\n",
    "        ],\n",
    "        label = [\"Δl=0\" \"Δl=1\" \"Δl=2\" \"Δl=3\" \"Δl=4\" \"Δl=5\" \"Δl=6\" \"Δl=7\" \"Δl=8\" \"Δl=9\" \"Δl=10\"],\n",
    "        markershape = :circle,\n",
    "        grid = :true,\n",
    "        #xlims = (0, final_x_tick),\n",
    "        xticks = ((size(T_range), round(final_x_tick, digits = 2))),\n",
    "        #xticks = 0:1:final_x_tick,\n",
    "        legend = :outertopright,\n",
    "        palette = palette([:skyblue, :purple], 11),\n",
    "        legendfontsize = 22,\n",
    "    )\n",
    "    xlabel!(L\"T\")\n",
    "    title!(L\"|W_{\\alpha=%$alpha}  \\, \\left(m=%$m, \\, T \\right) |^2\")\n",
    "    savefig(\"$(STORE_FOLDER)/ampls/W_alpha_$(alpha)_Immirzi_$(immirzi)_j0_$(j0).pdf\")\n",
    "\n",
    "end"
   ]
  },
  {
   "cell_type": "markdown",
   "id": "596680e9-acd8-4e0a-b7ee-992a9da384ff",
   "metadata": {
    "tags": []
   },
   "source": [
    "# Crossing Time"
   ]
  },
  {
   "cell_type": "code",
   "execution_count": 70,
   "id": "7e826325-29a0-4f5d-96a9-af0254028d1c",
   "metadata": {},
   "outputs": [
    {
     "data": {
      "text/plain": [
       "CrossingTimeLoad (generic function with 3 methods)"
      ]
     },
     "execution_count": 70,
     "metadata": {},
     "output_type": "execute_result"
    }
   ],
   "source": [
    "function CrossingTimeLoad(DATA_FOLDER, j0, jpm, alpha, immirzi, T, K0 = 0.5, Kpm = 0.5)\n",
    "    return Matrix(\n",
    "        DataFrame(\n",
    "            CSV.File(\n",
    "                \"$(DATA_FOLDER)/amplitude_data/j0=$(j0)_jpm=$(jpm)/K0_$(K0)_Kpm_$(Kpm)/immirzi_$(immirzi)/alpha_$(alpha)/lifetime_$(T).csv\",\n",
    "                header = true,\n",
    "            ),\n",
    "        ),\n",
    "    )\n",
    "end"
   ]
  },
  {
   "cell_type": "code",
   "execution_count": 78,
   "id": "6d0d54e2-72b6-45c0-b3b0-d5ebfc4af547",
   "metadata": {},
   "outputs": [
    {
     "data": {
      "text/plain": [
       "\"/home/frisus/Scrivania/BlackToWhiteHole/notebooks/Julia/plots/crossing_times/CT_alpha_3_Immirzi_1.pdf\""
      ]
     },
     "execution_count": 78,
     "metadata": {},
     "output_type": "execute_result"
    }
   ],
   "source": [
    "mkpath(\"$(STORE_FOLDER)/crossing_times\")\n",
    "\n",
    "crossing_times = Float64[]\n",
    "\n",
    "for j0_index in angular_spins\n",
    "\n",
    "    j0 = j0_index[1]\n",
    "    jpm = Fromj0Tojpm(j0)\n",
    "    m = Fromj0ToMass(j0)\n",
    "\n",
    "    crossing_time =\n",
    "        CrossingTimeLoad(DATA_FOLDER, j0, jpm, alpha, immirzi, T_sampling_parameter)\n",
    "\n",
    "    push!(crossing_times, crossing_time[end])\n",
    "\n",
    "end\n",
    "\n",
    "pl1 = plot(\n",
    "    1:9,\n",
    "    [crossing_times[:]],\n",
    "    label = L\"\\alpha=%$alpha\",\n",
    "    markershape = :circle,\n",
    "    legend = (0.10, 0.97),\n",
    "    legendfontsize = 18,\n",
    ")\n",
    "xlabel!(L\"m\")\n",
    "title!(L\"\\tau \\left(m \\right)\")\n",
    "savefig(\"$(STORE_FOLDER)/crossing_times/CT_alpha_$(alpha)_Immirzi_$(immirzi).pdf\")"
   ]
  },
  {
   "cell_type": "code",
   "execution_count": null,
   "id": "c2c695f8-85b2-400b-9a74-a571fe918271",
   "metadata": {},
   "outputs": [],
   "source": []
  }
 ],
 "metadata": {
  "kernelspec": {
   "display_name": "Julia 1.8.4",
   "language": "julia",
   "name": "julia-1.8"
  },
  "language_info": {
   "file_extension": ".jl",
   "mimetype": "application/julia",
   "name": "julia",
   "version": "1.8.4"
  }
 },
 "nbformat": 4,
 "nbformat_minor": 5
}
